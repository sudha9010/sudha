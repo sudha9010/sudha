{
 "cells": [
  {
   "cell_type": "code",
   "execution_count": 2,
   "metadata": {},
   "outputs": [
    {
     "name": "stdout",
     "output_type": "stream",
     "text": [
      "The least number in the list is: 0\n"
     ]
    }
   ],
   "source": [
    "def find_least_number(numbers):\n",
    "    if not numbers:\n",
    "        return None  # Handle empty list case\n",
    "    \n",
    "    least_number = min(numbers)\n",
    "    return least_number\n",
    "\n",
    "\n",
    "numbers_list = [1, 2, 3, 0]\n",
    "result = find_least_number(numbers_list)\n",
    "\n",
    "if result is not None:\n",
    "    print(f\"The least number in the list is: {result}\")\n",
    "else:\n",
    "    print(\"The list is empty.\")\n"
   ]
  },
  {
   "cell_type": "markdown",
   "metadata": {},
   "source": [
    "This Python program defines a function, find_least_number, designed to determine the smallest value in a given list of numbers. The function begins by checking whether the input list is empty. If it is, the function returns None to signify that there is no least number to identify. Subsequently, the program employs the built-in min function to find the minimum value in the list. The identified minimum value is then returned by the function. In an illustrative example, a list of numbers is created, and the find_least_number function is invoked with this list. The result is stored and subsequently printed, with a check to handle the case of an empty list, providing a clear indication of the least number or an appropriate message if the list is devoid of elements."
   ]
  },
  {
   "cell_type": "code",
   "execution_count": 4,
   "metadata": {},
   "outputs": [
    {
     "name": "stdout",
     "output_type": "stream",
     "text": [
      "The highest number in the list is: 100\n"
     ]
    }
   ],
   "source": [
    "def find_highest_number(numbers):\n",
    "    if not numbers:\n",
    "        return None  # Handle empty list case\n",
    "    \n",
    "    highest_number = max(numbers)\n",
    "    return highest_number\n",
    "\n",
    "\n",
    "numbers_list = [5, 3, 100, 2]\n",
    "result = find_highest_number(numbers_list)\n",
    "\n",
    "if result is not None:\n",
    "    print(f\"The highest number in the list is: {result}\")\n",
    "else:\n",
    "    print(\"The list is empty.\")\n"
   ]
  },
  {
   "cell_type": "markdown",
   "metadata": {},
   "source": [
    " This Python program defines a function named find_highest_number with the purpose of identifying the largest value within a provided list of numbers. The function incorporates a check at the outset to determine if the input list is empty, in which case it returns None to signify that there is no highest number to find. Utilizing the built-in max function, the program then identifies the maximum value within the list. The identified maximum value is subsequently returned by the function. In an example usage scenario, a list of numbers is established, and the find_highest_number function is called with this list. The resulting highest number is stored and printed to the console, accompanied by a conditional statement to handle the case of an empty list, delivering a clear indication of the highest number or an appropriate message if the list is devoid of elements."
   ]
  },
  {
   "cell_type": "code",
   "execution_count": 5,
   "metadata": {},
   "outputs": [
    {
     "name": "stdout",
     "output_type": "stream",
     "text": [
      "The highest number in the list is: 10\n",
      "The lowest number in the list is: 1\n"
     ]
    }
   ],
   "source": [
    "def find_highest_and_lowest(numbers):\n",
    "    if not numbers:\n",
    "        return None, None  # Handle empty list case\n",
    "    \n",
    "    highest_number = max(numbers)\n",
    "    lowest_number = min(numbers)\n",
    "    \n",
    "    return highest_number, lowest_number\n",
    "\n",
    "\n",
    "numbers_list = [5, 3, 8, 1, 10, 2]\n",
    "highest, lowest = find_highest_and_lowest(numbers_list)\n",
    "\n",
    "if highest is not None and lowest is not None:\n",
    "    print(f\"The highest number in the list is: {highest}\")\n",
    "    print(f\"The lowest number in the list is: {lowest}\")\n",
    "else:\n",
    "    print(\"The list is empty.\")\n"
   ]
  }
 ],
 "metadata": {
  "kernelspec": {
   "display_name": "Python 3",
   "language": "python",
   "name": "python3"
  },
  "language_info": {
   "codemirror_mode": {
    "name": "ipython",
    "version": 3
   },
   "file_extension": ".py",
   "mimetype": "text/x-python",
   "name": "python",
   "nbconvert_exporter": "python",
   "pygments_lexer": "ipython3",
   "version": "3.10.13"
  }
 },
 "nbformat": 4,
 "nbformat_minor": 2
}
